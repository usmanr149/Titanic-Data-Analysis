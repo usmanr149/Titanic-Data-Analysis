{
 "cells": [
  {
   "cell_type": "code",
   "execution_count": 3,
   "metadata": {
    "collapsed": true
   },
   "outputs": [],
   "source": [
    "%matplotlib inline\n",
    "\n",
    "import pandas as pd\n",
    "import matplotlib.pyplot as plt\n",
    "import numpy as np\n",
    "\n",
    "filename = '/home/usman/Documents/UdacityProjects/Project2/Downloadables_3/TitanicData/titanic_data.csv'\n",
    "data_df = pd.read_csv(filename)"
   ]
  },
  {
   "cell_type": "code",
   "execution_count": 4,
   "metadata": {
    "collapsed": false
   },
   "outputs": [
    {
     "data": {
      "text/html": [
       "<div>\n",
       "<table border=\"1\" class=\"dataframe\">\n",
       "  <thead>\n",
       "    <tr style=\"text-align: right;\">\n",
       "      <th></th>\n",
       "      <th>PassengerId</th>\n",
       "      <th>Survived</th>\n",
       "      <th>Age</th>\n",
       "      <th>SibSp</th>\n",
       "      <th>Parch</th>\n",
       "      <th>Fare</th>\n",
       "    </tr>\n",
       "    <tr>\n",
       "      <th>Pclass</th>\n",
       "      <th></th>\n",
       "      <th></th>\n",
       "      <th></th>\n",
       "      <th></th>\n",
       "      <th></th>\n",
       "      <th></th>\n",
       "    </tr>\n",
       "  </thead>\n",
       "  <tbody>\n",
       "    <tr>\n",
       "      <th>1</th>\n",
       "      <td>461.597222</td>\n",
       "      <td>0.629630</td>\n",
       "      <td>38.233441</td>\n",
       "      <td>0.416667</td>\n",
       "      <td>0.356481</td>\n",
       "      <td>84.154687</td>\n",
       "    </tr>\n",
       "    <tr>\n",
       "      <th>2</th>\n",
       "      <td>445.956522</td>\n",
       "      <td>0.472826</td>\n",
       "      <td>29.877630</td>\n",
       "      <td>0.402174</td>\n",
       "      <td>0.380435</td>\n",
       "      <td>20.662183</td>\n",
       "    </tr>\n",
       "    <tr>\n",
       "      <th>3</th>\n",
       "      <td>439.154786</td>\n",
       "      <td>0.242363</td>\n",
       "      <td>25.140620</td>\n",
       "      <td>0.615071</td>\n",
       "      <td>0.393075</td>\n",
       "      <td>13.675550</td>\n",
       "    </tr>\n",
       "  </tbody>\n",
       "</table>\n",
       "</div>"
      ],
      "text/plain": [
       "        PassengerId  Survived        Age     SibSp     Parch       Fare\n",
       "Pclass                                                                 \n",
       "1        461.597222  0.629630  38.233441  0.416667  0.356481  84.154687\n",
       "2        445.956522  0.472826  29.877630  0.402174  0.380435  20.662183\n",
       "3        439.154786  0.242363  25.140620  0.615071  0.393075  13.675550"
      ]
     },
     "execution_count": 4,
     "metadata": {},
     "output_type": "execute_result"
    }
   ],
   "source": [
    "data_df.groupby(['Pclass']).mean()"
   ]
  },
  {
   "cell_type": "code",
   "execution_count": 22,
   "metadata": {
    "collapsed": false
   },
   "outputs": [],
   "source": [
    "#add a new column where passengers with age less than 18 are classified as children\n",
    "data_df['Child'] = (data_df['Age'] < 18)\n",
    "\n",
    "\n",
    "#Break up the data into two data sets. One data sets for all the passengers less than 18 yyears old and one for all\n",
    "#above or equal to 18\n",
    "children_on_titanic = data_df[data_df.Age < 18]\n",
    "adults_on_titanic = data_df[data_df.Age >= 18]"
   ]
  },
  {
   "cell_type": "code",
   "execution_count": 23,
   "metadata": {
    "collapsed": false
   },
   "outputs": [],
   "source": [
    "total_number_of_adult_males = (adults_on_titanic['Sex']=='male').sum()\n",
    "total_number_of_adult_females = (adults_on_titanic['Sex']=='female').sum()\n",
    "total_number_of_children = len(children_on_titanic)\n",
    "\n",
    "adults_data_by_sex = adults_on_titanic.groupby(['Sex']).sum()\n",
    "total_number_of_adults_males_survived = adults_data_by_sex['Survived']['male']\n",
    "total_number_of_adult_females_survived = adults_data_by_sex['Survived']['female']\n",
    "\n",
    "total_number_of_children_survived = (children_on_titanic['Survived'] == 0).sum()"
   ]
  },
  {
   "cell_type": "code",
   "execution_count": 25,
   "metadata": {
    "collapsed": false
   },
   "outputs": [
    {
     "data": {
      "text/plain": [
       "<matplotlib.legend.Legend at 0x7f1d448444e0>"
      ]
     },
     "execution_count": 25,
     "metadata": {},
     "output_type": "execute_result"
    },
    {
     "data": {
      "image/png": "[encoded data removed]",
      "text/plain": [
       "<matplotlib.figure.Figure at 0x7f1d451f9518>"
      ]
     },
     "metadata": {},
     "output_type": "display_data"
    }
   ],
   "source": [
    "fig = plt.figure()\n",
    "ax = fig.add_subplot(111)\n",
    "\n",
    "##the data\n",
    "total = [total_number_of_adult_males, total_number_of_adult_females, total_number_of_children]\n",
    "survival = [total_number_of_adults_males_survived, total_number_of_adult_females_survived, \n",
    "            total_number_of_children_survived]\n",
    "\n",
    "ind = np.arange(len(total)) \n",
    "width = 0.35\n",
    "\n",
    "rects1 = ax.bar(ind, total, width, color = 'black')\n",
    "rects2 = ax.bar(ind, survival, width, color = 'red')\n",
    "\n",
    "'''Make a bar graph showing total males and females and the number who survived'''\n",
    "#the bars\n",
    "ax.set_xlim(-width,len(ind)+width)\n",
    "ax.set_ylim(0,600)\n",
    "ax.set_ylabel('Number of People')\n",
    "ax.set_title('Gender of People Who Survied')\n",
    "xTickMarks = ['Men', 'Women', 'Children']\n",
    "ax.set_xticks(ind+width/2)\n",
    "xtickNames = ax.set_xticklabels(xTickMarks)\n",
    "plt.setp(xtickNames, rotation=45, fontsize=10)\n",
    "ax.legend( (rects1[0], rects2[0]), ('Total', 'Survival') )"
   ]
  },
  {
   "cell_type": "code",
   "execution_count": 27,
   "metadata": {
    "collapsed": false
   },
   "outputs": [],
   "source": [
    "#break down adults data by cabin class\n",
    "first_class_adult_passengers = adults_on_titanic[(adults_on_titanic.Pclass == 1)]\n",
    "second_class_adult_passengers = adults_on_titanic[(adults_on_titanic.Pclass == 2)]\n",
    "third_class_adult_passengers = adults_on_titanic[(adults_on_titanic.Pclass == 3)]"
   ]
  },
  {
   "cell_type": "code",
   "execution_count": 29,
   "metadata": {
    "collapsed": true
   },
   "outputs": [],
   "source": [
    "#break down children data by cabin class\n",
    "first_class_children_passengers = children_on_titanic[(children_on_titanic.Pclass == 1)]\n",
    "second_class_children_passengers = children_on_titanic[(children_on_titanic.Pclass == 2)]\n",
    "third_class_children_passengers = children_on_titanic[(children_on_titanic.Pclass == 3)]"
   ]
  },
  {
   "cell_type": "code",
   "execution_count": 51,
   "metadata": {
    "collapsed": false
   },
   "outputs": [
    {
     "name": "stdout",
     "output_type": "stream",
     "text": [
      "78\n"
     ]
    }
   ],
   "source": [
    "Men_in_first_class = (first_class_adult_passengers['Sex']=='male').sum()\n",
    "Women_in_first_class = (first_class_adult_passengers['Sex']=='female').sum()\n",
    "children_in_first_class = len(first_class_children_passengers)\n",
    "\n",
    "Men_in_second_class = (second_class_adult_passengers['Sex']=='male').sum()\n",
    "Women_in_second_class = (second_class_adult_passengers['Sex']=='female').sum()\n",
    "children_in_second_class = len(second_class_children_passengers)\n",
    "\n",
    "Men_in_third_class = (third_class_adult_passengers['Sex']=='male').sum()\n",
    "Women_in_third_class = (third_class_adult_passengers['Sex']=='female').sum()\n",
    "children_in_third_class = len(third_class_children_passengers)\n",
    "\n",
    "print( children_in_third_class )"
   ]
  },
  {
   "cell_type": "code",
   "execution_count": 48,
   "metadata": {
    "collapsed": true
   },
   "outputs": [],
   "source": [
    "#class data by sex\n",
    "\n",
    "first_class_adults_data_by_sex = first_class_adult_passengers.groupby(['Sex']).sum()\n",
    "second_class_adults_data_by_sex = second_class_adult_passengers.groupby(['Sex']).sum()\n",
    "third_class_adults_data_by_sex = third_class_adult_passengers.groupby(['Sex']).sum()"
   ]
  },
  {
   "cell_type": "code",
   "execution_count": 49,
   "metadata": {
    "collapsed": true
   },
   "outputs": [],
   "source": [
    "#Survival of men and women by class\n",
    "first_class_adult_men_survived = first_class_adults_data_by_sex['Survived']['male']\n",
    "first_class_adult_women_survived = first_class_adults_data_by_sex['Survived']['female']\n",
    "first_class_children_survived = (first_class_children_passengers['Survived'] == 1).sum()\n",
    "\n",
    "second_class_adult_men_survived = second_class_adults_data_by_sex['Survived']['male']\n",
    "second_class_adult_women_survived = second_class_adults_data_by_sex['Survived']['female']\n",
    "second_class_children_survived = (second_class_children_passengers['Survived'] == 1).sum()\n",
    "\n",
    "third_class_adult_men_survived = third_class_adults_data_by_sex['Survived']['male']\n",
    "third_class_adult_women_survived = third_class_adults_data_by_sex['Survived']['female']\n",
    "third_class_children_survived = (third_class_children_passengers['Survived'] == 1).sum()"
   ]
  },
  {
   "cell_type": "code",
   "execution_count": 52,
   "metadata": {
    "collapsed": false
   },
   "outputs": [
    {
     "name": "stdout",
     "output_type": "stream",
     "text": [
      "78\n"
     ]
    }
   ],
   "source": [
    "total_Children = [children_in_first_class, children_in_second_class, children_in_third_class]\n",
    "print(children_in_third_class)"
   ]
  },
  {
   "cell_type": "code",
   "execution_count": 56,
   "metadata": {
    "collapsed": false
   },
   "outputs": [
    {
     "data": {
      "text/plain": [
       "<matplotlib.legend.Legend at 0x7f1d442cf470>"
      ]
     },
     "execution_count": 56,
     "metadata": {},
     "output_type": "execute_result"
    },
    {
     "data": {
      "image/png": "[encoded data removed]",
      "text/plain": [
       "<matplotlib.figure.Figure at 0x7f1d4437d518>"
      ]
     },
     "metadata": {},
     "output_type": "display_data"
    }
   ],
   "source": [
    "fig = plt.figure()\n",
    "ax = fig.add_subplot(111)\n",
    "\n",
    "##the data\n",
    "total_Men = [Men_in_first_class, Men_in_second_class, Men_in_third_class]\n",
    "survival_Men = [first_class_adult_men_survived, second_class_adult_men_survived, third_class_adult_men_survived]\n",
    "\n",
    "total_Women = [Women_in_first_class, Women_in_second_class, Women_in_third_class]\n",
    "survival_Women = [first_class_adult_women_survived, second_class_adult_women_survived, \n",
    "                  third_class_adult_women_survived]\n",
    "\n",
    "total_Children = [children_in_first_class, children_in_second_class, children_in_third_class]\n",
    "survival_Children = [first_class_children_survived, second_class_children_survived, \n",
    "                     third_class_children_survived]\n",
    "\n",
    "ind = np.arange(len(total_Men)) \n",
    "width = 0.1\n",
    "width1 = 0.10\n",
    "width2 = 0.20\n",
    "width3 = 0.25\n",
    "\n",
    "rects1 = ax.bar(ind, total_Men, width, color = 'yellow')\n",
    "rects2 = ax.bar(ind, survival_Men, width, color = 'red')\n",
    "rects3 = ax.bar(ind+width1, total_Women, width, color = 'blue')\n",
    "rects4 = ax.bar(ind+width1, survival_Women, width, color = 'green')\n",
    "rects5 = ax.bar(ind+width2, total_Children, width, color = 'black')\n",
    "rects6 = ax.bar(ind+width2, survival_Women, width, color = 'white')\n",
    "\n",
    "'''Make a bar graph showing total males and females and the number who survived'''\n",
    "#the bars\n",
    "ax.set_xlim(-width,len(ind)+width)\n",
    "ax.set_ylim(0,400)\n",
    "ax.set_ylabel('Number of People')\n",
    "ax.set_title('Gender Survival by Class')\n",
    "xTickMarks = ['Pclass 1', 'Pclass 2', 'Pclass 3']\n",
    "ax.set_xticks(ind+0.25)\n",
    "xtickNames = ax.set_xticklabels(xTickMarks)\n",
    "plt.setp(xtickNames, rotation=0, fontsize=10)\n",
    "ax.legend( (rects1[0], rects2[0], rects3[0], rects4[0], rects5[0], rects6[0]), \n",
    "          ('Total Number of Men', 'Number of Men Who Survived', \n",
    "                                                          'Total Number of Women', 'Number of Women Who Survived',\n",
    "          'Total Number of Children', 'Number of children who survived'),\n",
    "         loc = \"upper left\", bbox_to_anchor = (0.1, -0.1) )"
   ]
  },
  {
   "cell_type": "code",
   "execution_count": 57,
   "metadata": {
    "collapsed": false
   },
   "outputs": [
    {
     "name": "stdout",
     "output_type": "stream",
     "text": [
      "Percentage of men who survived in first class =  37.1134020619\n",
      "Percentage of men who survived in second class =  6.81818181818\n",
      "Percentage of men who survived in third class =  13.3333333333\n",
      "\n",
      "\n",
      "Percentage of women who survived in first class =  97.4025974026\n",
      "Percentage of women who survived in second class =  90.3225806452\n",
      "Percentage of women who survived in third class =  41.7910447761\n"
     ]
    }
   ],
   "source": [
    "print('Percentage of men who survived in first class = ', first_class_adult_men_survived*100/Men_in_first_class)\n",
    "print('Percentage of men who survived in second class = ', second_class_adult_men_survived*100/Men_in_second_class)\n",
    "print('Percentage of men who survived in third class = ', third_class_adult_men_survived*100/Men_in_third_class)\n",
    "print('\\n')\n",
    "print('Percentage of women who survived in first class = ', first_class_adult_women_survived*100/\n",
    "      Women_in_first_class)\n",
    "print('Percentage of women who survived in second class = ', second_class_adult_women_survived*100/\n",
    "      Women_in_second_class)\n",
    "print('Percentage of women who survived in third class = ', third_class_adult_women_survived*100/\n",
    "      Women_in_third_class)"
   ]
  },
  {
   "cell_type": "code",
   "execution_count": 58,
   "metadata": {
    "collapsed": false
   },
   "outputs": [
    {
     "data": {
      "text/plain": [
       "714"
      ]
     },
     "execution_count": 58,
     "metadata": {},
     "output_type": "execute_result"
    }
   ],
   "source": [
    "#Survival by age\n",
    "\n",
    "#drop the data where the age of the passenger is not known\n",
    "data_df_mod = data_df.dropna(subset = ['Age'])\n",
    "len(data_df_mod)"
   ]
  },
  {
   "cell_type": "code",
   "execution_count": 59,
   "metadata": {
    "collapsed": false
   },
   "outputs": [
    {
     "data": {
      "text/plain": [
       "<matplotlib.legend.Legend at 0x7f1d443c2a58>"
      ]
     },
     "execution_count": 59,
     "metadata": {},
     "output_type": "execute_result"
    },
    {
     "data": {
      "image/png": "[encoded data removed]",
      "text/plain": [
       "<matplotlib.figure.Figure at 0x7f1d44527438>"
      ]
     },
     "metadata": {},
     "output_type": "display_data"
    }
   ],
   "source": [
    "data_for_survival = data_df_mod[data_df_mod.Survived == 1]\n",
    "\n",
    "plt.hist(data_df_mod['Age'], bins=20, range=(0,100), label='Total Number')\n",
    "plt.hist(data_for_survival['Age'], bins=20, range=(0,100), label='Number of Survivor')\n",
    "plt.ylabel('Number of People')\n",
    "plt.xlabel('Age')\n",
    "plt.axis([0, 100, 0, 140])\n",
    "plt.legend()"
   ]
  },
  {
   "cell_type": "code",
   "execution_count": 60,
   "metadata": {
    "collapsed": false
   },
   "outputs": [],
   "source": [
    "data_by_age = data_df_mod.groupby('Age')\n",
    "the_ages_of_people = data_by_age.dtypes.index\n",
    "the_ages_of_people = pd.DataFrame(the_ages_of_people)"
   ]
  },
  {
   "cell_type": "code",
   "execution_count": 158,
   "metadata": {
    "collapsed": false
   },
   "outputs": [
    {
     "data": {
      "text/plain": [
       "[-5, 100, -0.1, 1.1]"
      ]
     },
     "execution_count": 158,
     "metadata": {},
     "output_type": "execute_result"
    },
    {
     "data": {
      "image/png": "[encoded data removed]",
      "text/plain": [
       "<matplotlib.figure.Figure at 0x7ff595889a90>"
      ]
     },
     "metadata": {},
     "output_type": "display_data"
    }
   ],
   "source": [
    "plt.scatter(the_ages_of_people, data_by_age['Survived'].mean())\n",
    "plt.ylabel('Survival Rate')\n",
    "plt.xlabel('Age')\n",
    "plt.axis([-5, 100, -0.1,1.1])"
   ]
  },
  {
   "cell_type": "code",
   "execution_count": null,
   "metadata": {
    "collapsed": true
   },
   "outputs": [],
   "source": []
  }
 ],
 "metadata": {
  "kernelspec": {
   "display_name": "Python 3",
   "language": "python",
   "name": "python3"
  },
  "language_info": {
   "codemirror_mode": {
    "name": "ipython",
    "version": 3
   },
   "file_extension": ".py",
   "mimetype": "text/x-python",
   "name": "python",
   "nbconvert_exporter": "python",
   "pygments_lexer": "ipython3",
   "version": "3.5.1"
  }
 },
 "nbformat": 4,
 "nbformat_minor": 0
}
